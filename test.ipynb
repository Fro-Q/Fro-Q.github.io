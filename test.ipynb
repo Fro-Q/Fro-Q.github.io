{
 "cells": [
  {
   "cell_type": "code",
   "execution_count": null,
   "id": "76d47bdd",
   "metadata": {},
   "outputs": [],
   "source": [
    "def test(a):\n",
    "    return a * 2\n",
    "test(2)"
   ]
  }
 ],
 "metadata": {
  "kernelspec": {
   "display_name": "Python 3",
   "language": "python",
   "name": "python3"
  },
  "language_info": {
   "name": "python",
   "version": "3.13.5"
  }
 },
 "nbformat": 4,
 "nbformat_minor": 5
}
